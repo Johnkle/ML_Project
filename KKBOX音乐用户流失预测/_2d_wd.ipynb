{
 "cells": [
  {
   "cell_type": "markdown",
   "metadata": {},
   "source": [
    "## Wide and Deep模型训练和测试  \n",
    "1. 生成WD训练数据    \n",
    "2. 生成WD测试数据  \n",
    "3. 训练Wide and Deep model  \n",
    "4. WD模型评估和预测"
   ]
  },
  {
   "cell_type": "markdown",
   "metadata": {},
   "source": [
    "### 1. 生成WD训练数据  \n",
    "注意label和columns的顺序，送入input_fn需要舍去head"
   ]
  },
  {
   "cell_type": "code",
   "execution_count": 1,
   "metadata": {},
   "outputs": [],
   "source": [
    "import pandas as pd\n",
    "import numpy as np\n",
    "import pickle"
   ]
  },
  {
   "cell_type": "code",
   "execution_count": 2,
   "metadata": {},
   "outputs": [],
   "source": [
    "def trainDataForWD(input_file,output_file):\n",
    "    dpath = \"./data/\"\n",
    "    fin = open(dpath+input_file,\"r\")\n",
    "    fout = open(dpath+output_file,\"w\")\n",
    "    start = 0\n",
    "    for line in fin:\n",
    "        if start==0:\n",
    "            start+=1\n",
    "            continue\n",
    "        cols = line.strip().split(\",\")\n",
    "        outcols = [cols[-1]]+cols[-6:-1]+[cols[-10]]+cols[-9:-6]+cols[2:-10]\n",
    "        fout.write(\",\".join(outcols)+\"\\n\")\n",
    "    fin.close()\n",
    "    fout.close()       "
   ]
  },
  {
   "cell_type": "code",
   "execution_count": 3,
   "metadata": {},
   "outputs": [
    {
     "name": "stdout",
     "output_type": "stream",
     "text": [
      "Wall time: 28.5 s\n"
     ]
    }
   ],
   "source": [
    "%%time\n",
    "trainDataForWD(\"train_final.csv\",\"train_wd.csv\")"
   ]
  },
  {
   "cell_type": "code",
   "execution_count": 21,
   "metadata": {},
   "outputs": [],
   "source": [
    "train_wd = pd.read_csv(\"./data/train_wd.csv\",header=None)"
   ]
  },
  {
   "cell_type": "code",
   "execution_count": 5,
   "metadata": {
    "collapsed": true
   },
   "outputs": [
    {
     "data": {
      "text/html": [
       "<div>\n",
       "<style scoped>\n",
       "    .dataframe tbody tr th:only-of-type {\n",
       "        vertical-align: middle;\n",
       "    }\n",
       "\n",
       "    .dataframe tbody tr th {\n",
       "        vertical-align: top;\n",
       "    }\n",
       "\n",
       "    .dataframe thead th {\n",
       "        text-align: right;\n",
       "    }\n",
       "</style>\n",
       "<table border=\"1\" class=\"dataframe\">\n",
       "  <thead>\n",
       "    <tr style=\"text-align: right;\">\n",
       "      <th></th>\n",
       "      <th>0</th>\n",
       "      <th>1</th>\n",
       "      <th>2</th>\n",
       "      <th>3</th>\n",
       "      <th>4</th>\n",
       "      <th>5</th>\n",
       "      <th>6</th>\n",
       "      <th>7</th>\n",
       "      <th>8</th>\n",
       "      <th>9</th>\n",
       "      <th>10</th>\n",
       "      <th>11</th>\n",
       "      <th>12</th>\n",
       "      <th>13</th>\n",
       "      <th>14</th>\n",
       "      <th>15</th>\n",
       "      <th>16</th>\n",
       "      <th>17</th>\n",
       "      <th>18</th>\n",
       "    </tr>\n",
       "  </thead>\n",
       "  <tbody>\n",
       "    <tr>\n",
       "      <th>0</th>\n",
       "      <td>1</td>\n",
       "      <td>15.581</td>\n",
       "      <td>0.795</td>\n",
       "      <td>0.506</td>\n",
       "      <td>0.474</td>\n",
       "      <td>0.53734</td>\n",
       "      <td>-0.25183</td>\n",
       "      <td>17</td>\n",
       "      <td>8</td>\n",
       "      <td>0</td>\n",
       "      <td>1</td>\n",
       "      <td>6</td>\n",
       "      <td>5</td>\n",
       "      <td>1</td>\n",
       "      <td>0</td>\n",
       "      <td>2</td>\n",
       "      <td>7</td>\n",
       "      <td>8</td>\n",
       "      <td>13</td>\n",
       "    </tr>\n",
       "    <tr>\n",
       "      <th>1</th>\n",
       "      <td>1</td>\n",
       "      <td>1.991</td>\n",
       "      <td>-0.081</td>\n",
       "      <td>0.743</td>\n",
       "      <td>1.000</td>\n",
       "      <td>0.99810</td>\n",
       "      <td>0.23361</td>\n",
       "      <td>6</td>\n",
       "      <td>8</td>\n",
       "      <td>0</td>\n",
       "      <td>3</td>\n",
       "      <td>7</td>\n",
       "      <td>3</td>\n",
       "      <td>13</td>\n",
       "      <td>4</td>\n",
       "      <td>0</td>\n",
       "      <td>9</td>\n",
       "      <td>7</td>\n",
       "      <td>13</td>\n",
       "    </tr>\n",
       "    <tr>\n",
       "      <th>2</th>\n",
       "      <td>1</td>\n",
       "      <td>1.991</td>\n",
       "      <td>-0.072</td>\n",
       "      <td>0.743</td>\n",
       "      <td>0.500</td>\n",
       "      <td>-0.04898</td>\n",
       "      <td>-0.13422</td>\n",
       "      <td>6</td>\n",
       "      <td>8</td>\n",
       "      <td>0</td>\n",
       "      <td>3</td>\n",
       "      <td>7</td>\n",
       "      <td>3</td>\n",
       "      <td>13</td>\n",
       "      <td>4</td>\n",
       "      <td>0</td>\n",
       "      <td>9</td>\n",
       "      <td>7</td>\n",
       "      <td>13</td>\n",
       "    </tr>\n",
       "    <tr>\n",
       "      <th>3</th>\n",
       "      <td>1</td>\n",
       "      <td>1.991</td>\n",
       "      <td>-0.081</td>\n",
       "      <td>0.743</td>\n",
       "      <td>1.000</td>\n",
       "      <td>0.99810</td>\n",
       "      <td>0.05294</td>\n",
       "      <td>40</td>\n",
       "      <td>0</td>\n",
       "      <td>0</td>\n",
       "      <td>3</td>\n",
       "      <td>7</td>\n",
       "      <td>3</td>\n",
       "      <td>13</td>\n",
       "      <td>4</td>\n",
       "      <td>0</td>\n",
       "      <td>9</td>\n",
       "      <td>7</td>\n",
       "      <td>13</td>\n",
       "    </tr>\n",
       "    <tr>\n",
       "      <th>4</th>\n",
       "      <td>1</td>\n",
       "      <td>15.581</td>\n",
       "      <td>1.211</td>\n",
       "      <td>0.506</td>\n",
       "      <td>0.364</td>\n",
       "      <td>0.38750</td>\n",
       "      <td>-0.36784</td>\n",
       "      <td>1</td>\n",
       "      <td>8</td>\n",
       "      <td>0</td>\n",
       "      <td>1</td>\n",
       "      <td>6</td>\n",
       "      <td>5</td>\n",
       "      <td>1</td>\n",
       "      <td>0</td>\n",
       "      <td>2</td>\n",
       "      <td>7</td>\n",
       "      <td>8</td>\n",
       "      <td>13</td>\n",
       "    </tr>\n",
       "  </tbody>\n",
       "</table>\n",
       "</div>"
      ],
      "text/plain": [
       "   0       1      2      3      4        5        6   7   8   9   10  11  12  \\\n",
       "0   1  15.581  0.795  0.506  0.474  0.53734 -0.25183  17   8   0   1   6   5   \n",
       "1   1   1.991 -0.081  0.743  1.000  0.99810  0.23361   6   8   0   3   7   3   \n",
       "2   1   1.991 -0.072  0.743  0.500 -0.04898 -0.13422   6   8   0   3   7   3   \n",
       "3   1   1.991 -0.081  0.743  1.000  0.99810  0.05294  40   0   0   3   7   3   \n",
       "4   1  15.581  1.211  0.506  0.364  0.38750 -0.36784   1   8   0   1   6   5   \n",
       "\n",
       "   13  14  15  16  17  18  \n",
       "0   1   0   2   7   8  13  \n",
       "1  13   4   0   9   7  13  \n",
       "2  13   4   0   9   7  13  \n",
       "3  13   4   0   9   7  13  \n",
       "4   1   0   2   7   8  13  "
      ]
     },
     "execution_count": 5,
     "metadata": {},
     "output_type": "execute_result"
    }
   ],
   "source": [
    "train_wd.iloc[0:5,:]"
   ]
  },
  {
   "cell_type": "code",
   "execution_count": 6,
   "metadata": {},
   "outputs": [
    {
     "data": {
      "text/plain": [
       "(7377403, 19)"
      ]
     },
     "execution_count": 6,
     "metadata": {},
     "output_type": "execute_result"
    }
   ],
   "source": [
    "train_wd.shape"
   ]
  },
  {
   "cell_type": "markdown",
   "metadata": {},
   "source": [
    "### 2. 生成WD测试数据"
   ]
  },
  {
   "cell_type": "code",
   "execution_count": 7,
   "metadata": {},
   "outputs": [],
   "source": [
    "def testDataForWD(input_file,output_file):\n",
    "    dpath = \"./data/\"\n",
    "    fin = open(dpath+input_file,\"r\")\n",
    "    fout = open(dpath+output_file,\"w\")\n",
    "    start = 0\n",
    "    for line in fin:\n",
    "        if start==0:\n",
    "            start+=1\n",
    "            continue\n",
    "        cols = line.strip().split(\",\")\n",
    "        outcols = cols[-5:]+[cols[-9]]+cols[-8:-5]+cols[3:-9]\n",
    "        fout.write(\",\".join(outcols)+\"\\n\")\n",
    "    fin.close()\n",
    "    fout.close()       "
   ]
  },
  {
   "cell_type": "code",
   "execution_count": 8,
   "metadata": {},
   "outputs": [
    {
     "name": "stdout",
     "output_type": "stream",
     "text": [
      "Wall time: 9.62 s\n"
     ]
    }
   ],
   "source": [
    "%%time\n",
    "testDataForWD(\"test_final.csv\",\"test_wd.csv\")"
   ]
  },
  {
   "cell_type": "code",
   "execution_count": 17,
   "metadata": {},
   "outputs": [],
   "source": [
    "test_wd = pd.read_csv(\"./data/test_wd.csv\",header=None)"
   ]
  },
  {
   "cell_type": "code",
   "execution_count": 18,
   "metadata": {
    "collapsed": true
   },
   "outputs": [
    {
     "data": {
      "text/html": [
       "<div>\n",
       "<style scoped>\n",
       "    .dataframe tbody tr th:only-of-type {\n",
       "        vertical-align: middle;\n",
       "    }\n",
       "\n",
       "    .dataframe tbody tr th {\n",
       "        vertical-align: top;\n",
       "    }\n",
       "\n",
       "    .dataframe thead th {\n",
       "        text-align: right;\n",
       "    }\n",
       "</style>\n",
       "<table border=\"1\" class=\"dataframe\">\n",
       "  <thead>\n",
       "    <tr style=\"text-align: right;\">\n",
       "      <th></th>\n",
       "      <th>0</th>\n",
       "      <th>1</th>\n",
       "      <th>2</th>\n",
       "      <th>3</th>\n",
       "      <th>4</th>\n",
       "      <th>5</th>\n",
       "      <th>6</th>\n",
       "      <th>7</th>\n",
       "      <th>8</th>\n",
       "      <th>9</th>\n",
       "      <th>10</th>\n",
       "      <th>11</th>\n",
       "      <th>12</th>\n",
       "      <th>13</th>\n",
       "      <th>14</th>\n",
       "      <th>15</th>\n",
       "      <th>16</th>\n",
       "      <th>17</th>\n",
       "    </tr>\n",
       "  </thead>\n",
       "  <tbody>\n",
       "    <tr>\n",
       "      <th>0</th>\n",
       "      <td>-0.401</td>\n",
       "      <td>2.944</td>\n",
       "      <td>0.366</td>\n",
       "      <td>0.504</td>\n",
       "      <td>0.38083</td>\n",
       "      <td>-0.14208</td>\n",
       "      <td>24</td>\n",
       "      <td>4</td>\n",
       "      <td>0</td>\n",
       "      <td>3</td>\n",
       "      <td>7</td>\n",
       "      <td>2</td>\n",
       "      <td>1</td>\n",
       "      <td>0</td>\n",
       "      <td>2</td>\n",
       "      <td>7</td>\n",
       "      <td>12</td>\n",
       "      <td>13</td>\n",
       "    </tr>\n",
       "    <tr>\n",
       "      <th>1</th>\n",
       "      <td>-0.401</td>\n",
       "      <td>32.878</td>\n",
       "      <td>0.366</td>\n",
       "      <td>0.625</td>\n",
       "      <td>0.53185</td>\n",
       "      <td>0.45662</td>\n",
       "      <td>25</td>\n",
       "      <td>4</td>\n",
       "      <td>0</td>\n",
       "      <td>3</td>\n",
       "      <td>7</td>\n",
       "      <td>2</td>\n",
       "      <td>1</td>\n",
       "      <td>0</td>\n",
       "      <td>2</td>\n",
       "      <td>7</td>\n",
       "      <td>12</td>\n",
       "      <td>13</td>\n",
       "    </tr>\n",
       "    <tr>\n",
       "      <th>2</th>\n",
       "      <td>-0.594</td>\n",
       "      <td>-0.072</td>\n",
       "      <td>0.144</td>\n",
       "      <td>0.400</td>\n",
       "      <td>-0.88885</td>\n",
       "      <td>0.42822</td>\n",
       "      <td>12</td>\n",
       "      <td>2</td>\n",
       "      <td>0</td>\n",
       "      <td>0</td>\n",
       "      <td>16</td>\n",
       "      <td>9</td>\n",
       "      <td>1</td>\n",
       "      <td>0</td>\n",
       "      <td>2</td>\n",
       "      <td>4</td>\n",
       "      <td>12</td>\n",
       "      <td>12</td>\n",
       "    </tr>\n",
       "    <tr>\n",
       "      <th>3</th>\n",
       "      <td>-0.034</td>\n",
       "      <td>-0.029</td>\n",
       "      <td>0.296</td>\n",
       "      <td>0.226</td>\n",
       "      <td>-0.18739</td>\n",
       "      <td>0.23750</td>\n",
       "      <td>25</td>\n",
       "      <td>8</td>\n",
       "      <td>0</td>\n",
       "      <td>7</td>\n",
       "      <td>11</td>\n",
       "      <td>7</td>\n",
       "      <td>3</td>\n",
       "      <td>5</td>\n",
       "      <td>1</td>\n",
       "      <td>9</td>\n",
       "      <td>3</td>\n",
       "      <td>13</td>\n",
       "    </tr>\n",
       "    <tr>\n",
       "      <th>4</th>\n",
       "      <td>-0.034</td>\n",
       "      <td>-0.072</td>\n",
       "      <td>0.296</td>\n",
       "      <td>0.400</td>\n",
       "      <td>0.98938</td>\n",
       "      <td>-0.30702</td>\n",
       "      <td>32</td>\n",
       "      <td>0</td>\n",
       "      <td>0</td>\n",
       "      <td>7</td>\n",
       "      <td>11</td>\n",
       "      <td>7</td>\n",
       "      <td>3</td>\n",
       "      <td>5</td>\n",
       "      <td>1</td>\n",
       "      <td>9</td>\n",
       "      <td>3</td>\n",
       "      <td>13</td>\n",
       "    </tr>\n",
       "  </tbody>\n",
       "</table>\n",
       "</div>"
      ],
      "text/plain": [
       "      0       1      2      3        4        5   6   7   8   9   10  11  12  \\\n",
       "0 -0.401   2.944  0.366  0.504  0.38083 -0.14208  24   4   0   3   7   2   1   \n",
       "1 -0.401  32.878  0.366  0.625  0.53185  0.45662  25   4   0   3   7   2   1   \n",
       "2 -0.594  -0.072  0.144  0.400 -0.88885  0.42822  12   2   0   0  16   9   1   \n",
       "3 -0.034  -0.029  0.296  0.226 -0.18739  0.23750  25   8   0   7  11   7   3   \n",
       "4 -0.034  -0.072  0.296  0.400  0.98938 -0.30702  32   0   0   7  11   7   3   \n",
       "\n",
       "   13  14  15  16  17  \n",
       "0   0   2   7  12  13  \n",
       "1   0   2   7  12  13  \n",
       "2   0   2   4  12  12  \n",
       "3   5   1   9   3  13  \n",
       "4   5   1   9   3  13  "
      ]
     },
     "execution_count": 18,
     "metadata": {},
     "output_type": "execute_result"
    }
   ],
   "source": [
    "test_wd.iloc[0:5,:]"
   ]
  },
  {
   "cell_type": "code",
   "execution_count": 11,
   "metadata": {},
   "outputs": [
    {
     "data": {
      "text/plain": [
       "(2556790, 18)"
      ]
     },
     "execution_count": 11,
     "metadata": {},
     "output_type": "execute_result"
    }
   ],
   "source": [
    "test_wd.shape"
   ]
  },
  {
   "cell_type": "markdown",
   "metadata": {},
   "source": [
    "### 3. 训练Wide and Deep model"
   ]
  },
  {
   "cell_type": "code",
   "execution_count": 2,
   "metadata": {},
   "outputs": [
    {
     "name": "stdout",
     "output_type": "stream",
     "text": [
      "Using TensorFlow version 1.13.1\n",
      "\n"
     ]
    }
   ],
   "source": [
    "from __future__ import absolute_import\n",
    "from __future__ import division\n",
    "from __future__ import print_function\n",
    "\n",
    "import time\n",
    "import tensorflow as tf\n",
    "\n",
    "tf.logging.set_verbosity(tf.logging.INFO) # Set to INFO for tracking training, default is WARN. ERROR for least messages\n",
    "\n",
    "print(\"Using TensorFlow version %s\\n\" % (tf.__version__))"
   ]
  },
  {
   "cell_type": "markdown",
   "metadata": {},
   "source": [
    "1.构建feature columns "
   ]
  },
  {
   "cell_type": "code",
   "execution_count": 3,
   "metadata": {},
   "outputs": [
    {
     "name": "stdout",
     "output_type": "stream",
     "text": [
      "Feature columns are:  ['user_pop', 'item_pop', 'user_rate', 'item_rate', 'lfm_reco', 'song_length', 'genre_ids', 'language', 'mult_genre', 'source_system_tab', 'source_screen_name', 'source_type', 'city', 'bd', 'gender', 'registered_via', 'registration_init_time', 'expiration_date'] \n",
      "\n"
     ]
    }
   ],
   "source": [
    "CONTINUOUS_COLUMNS =  [\"user_pop\",\"item_pop\",\"user_rate\",\"item_rate\",\"lfm_reco\",\"song_length\"] \n",
    "CATEGORICAL_COLUMNS = [\"genre_ids\",\"language\",\"mult_genre\",\"source_system_tab\",\"source_screen_name\",\"source_type\",\\\n",
    "                       \"city\",\"bd\",\"gender\",\"registered_via\",\"registration_init_time\",\"expiration_date\"] \n",
    "LABEL_COLUMN = [\"target\"]\n",
    "\n",
    "TRAIN_DATA_COLUMNS = LABEL_COLUMN+ CONTINUOUS_COLUMNS + CATEGORICAL_COLUMNS\n",
    "TEST_DATA_COLUMNS = CONTINUOUS_COLUMNS + CATEGORICAL_COLUMNS\n",
    "\n",
    "FEATURE_COLUMNS = CONTINUOUS_COLUMNS + CATEGORICAL_COLUMNS\n",
    "\n",
    "print('Feature columns are: ', FEATURE_COLUMNS, '\\n')"
   ]
  },
  {
   "cell_type": "markdown",
   "metadata": {},
   "source": [
    "2.读取数据"
   ]
  },
  {
   "cell_type": "code",
   "execution_count": 4,
   "metadata": {},
   "outputs": [
    {
     "name": "stdout",
     "output_type": "stream",
     "text": [
      "input function configured\n"
     ]
    }
   ],
   "source": [
    "def generate_input_fn(filepath, batch_size):\n",
    "    def _input_fn():\n",
    "        filepath_queue = tf.train.string_input_producer([filepath])\n",
    "        reader = tf.TextLineReader()\n",
    "        key, value = reader.read_up_to(filepath_queue, num_records=batch_size)\n",
    "\n",
    "        cont_defaults = [ [0.] for i in range(6) ]\n",
    "        cate_defaults = [ [\" \"] for i in range(12) ]\n",
    "        label_defaults = [ [0] ]\n",
    "        \n",
    "        if filepath==\"./data/train_wd.csv\":\n",
    "            column_headers = TRAIN_DATA_COLUMNS\n",
    "            record_defaults = label_defaults + cont_defaults + cate_defaults\n",
    "            columns = tf.decode_csv(\n",
    "                value, record_defaults=record_defaults)\n",
    "            all_columns = dict(zip(column_headers, columns))\n",
    "            labels = all_columns.pop(LABEL_COLUMN[0])\n",
    "            features = all_columns \n",
    "            for feature_name in CATEGORICAL_COLUMNS:\n",
    "                features[feature_name] = tf.expand_dims(features[feature_name], -1)\n",
    "            return features, labels\n",
    "        \n",
    "        if filepath==\"./data/test_wd.csv\":\n",
    "            column_headers = TEST_DATA_COLUMNS\n",
    "            record_defaults = cont_defaults + cate_defaults\n",
    "            columns = tf.decode_csv(\n",
    "                value, record_defaults=record_defaults)\n",
    "            all_columns = dict(zip(column_headers, columns))\n",
    "            features = all_columns \n",
    "            for feature_name in CATEGORICAL_COLUMNS:\n",
    "                features[feature_name] = tf.expand_dims(features[feature_name], -1)\n",
    "            return features\n",
    "            \n",
    "    return _input_fn\n",
    "\n",
    "print('input function configured')"
   ]
  },
  {
   "cell_type": "markdown",
   "metadata": {},
   "source": [
    "3.构建特征"
   ]
  },
  {
   "cell_type": "code",
   "execution_count": 5,
   "metadata": {},
   "outputs": [
    {
     "name": "stdout",
     "output_type": "stream",
     "text": [
      "Wide/Sparse columns configured\n"
     ]
    }
   ],
   "source": [
    "wide_columns = []\n",
    "for name in CATEGORICAL_COLUMNS:\n",
    "    wide_columns.append(tf.feature_column.categorical_column_with_hash_bucket(\n",
    "            name, hash_bucket_size=512))\n",
    "\n",
    "print('Wide/Sparse columns configured')"
   ]
  },
  {
   "cell_type": "code",
   "execution_count": 6,
   "metadata": {},
   "outputs": [
    {
     "name": "stdout",
     "output_type": "stream",
     "text": [
      "deep/continuous columns configured\n"
     ]
    }
   ],
   "source": [
    "deep_columns = []\n",
    "for name in CONTINUOUS_COLUMNS:\n",
    "    deep_columns.append(tf.feature_column.numeric_column(name))\n",
    "\n",
    "print('deep/continuous columns configured')"
   ]
  },
  {
   "cell_type": "code",
   "execution_count": 7,
   "metadata": {},
   "outputs": [
    {
     "name": "stdout",
     "output_type": "stream",
     "text": [
      "wide and deep columns configured\n"
     ]
    }
   ],
   "source": [
    "# Embeddings for wide columns into deep columns\n",
    "for col in wide_columns:\n",
    "    deep_columns.append(tf.feature_column.embedding_column\\\n",
    "                        (col, dimension=9))\n",
    "\n",
    "print('wide and deep columns configured')"
   ]
  },
  {
   "cell_type": "markdown",
   "metadata": {},
   "source": [
    "4.初始化WD模型"
   ]
  },
  {
   "cell_type": "code",
   "execution_count": 8,
   "metadata": {},
   "outputs": [],
   "source": [
    "def create_model_dir(model_type):\n",
    "    return 'WD_models/model_' + model_type + '_' + str(int(time.time()))\n",
    "\n",
    "def get_model(model_type, model_dir):\n",
    "    print(\"Model directory = %s\" % model_dir)\n",
    "\n",
    "    runconfig = tf.estimator.RunConfig(\n",
    "        save_checkpoints_secs=None,\n",
    "        save_checkpoints_steps = 100,)\n",
    "    \n",
    "    model = None\n",
    "    \n",
    "    # Linear Classifier\n",
    "    if model_type == 'WIDE':\n",
    "        model = tf.estimator.LinearClassifier(\n",
    "            model_dir=model_dir, \n",
    "            feature_columns=wide_columns,\n",
    "            optimizer=tf.train.FtrlOptimizer(0.1, l2_regularization_strength=1.0))\n",
    "\n",
    "    # Deep Neural Net Classifier\n",
    "    if model_type == 'DEEP':\n",
    "        model = tf.estimator.DNNClassifier(\n",
    "            model_dir=model_dir,\n",
    "            feature_columns=deep_columns,\n",
    "            hidden_units=[64,16],\n",
    "            optimizer= tf.train.ProximalAdagradOptimizer(learning_rate=0.1, \\\n",
    "                            l1_regularization_strength=0.001,l2_regularization_strength=0.001),)\n",
    "\n",
    "    # Combined Linear and Deep Classifier\n",
    "    if model_type == 'WIDE_AND_DEEP':\n",
    "        model = tf.estimator.DNNLinearCombinedClassifier(\n",
    "            model_dir=model_dir,\n",
    "            linear_feature_columns=wide_columns,\n",
    "            linear_optimizer=tf.train.FtrlOptimizer(0.1, l2_regularization_strength=1.0),\n",
    "            dnn_feature_columns=deep_columns,\n",
    "            dnn_optimizer= tf.train.ProximalAdagradOptimizer(learning_rate=0.1, \\\n",
    "                            l1_regularization_strength=0.001,l2_regularization_strength=0.001),\n",
    "            dnn_hidden_units=[128,64,32,16],\n",
    "            config=runconfig)\n",
    "        \n",
    "    print('estimator built')\n",
    "    return model"
   ]
  },
  {
   "cell_type": "markdown",
   "metadata": {},
   "source": [
    "5.训练WD模型"
   ]
  },
  {
   "cell_type": "code",
   "execution_count": 9,
   "metadata": {},
   "outputs": [],
   "source": [
    "train_file = \"./data/train_wd.csv\"\n",
    "test_file  = \"./data/test_wd.csv\"\n",
    "train_sample_size = 7377403\n",
    "BATCH_SIZE = 2000\n",
    "train_steps = train_sample_size/BATCH_SIZE # 7377403/2000 "
   ]
  },
  {
   "cell_type": "code",
   "execution_count": 10,
   "metadata": {
    "collapsed": true
   },
   "outputs": [
    {
     "name": "stdout",
     "output_type": "stream",
     "text": [
      "Model directory = WD_models/model_WIDE_AND_DEEP_1570200215\n",
      "INFO:tensorflow:Using config: {'_model_dir': 'WD_models/model_WIDE_AND_DEEP_1570200215', '_tf_random_seed': None, '_save_summary_steps': 100, '_save_checkpoints_steps': 100, '_save_checkpoints_secs': None, '_session_config': allow_soft_placement: true\n",
      "graph_options {\n",
      "  rewrite_options {\n",
      "    meta_optimizer_iterations: ONE\n",
      "  }\n",
      "}\n",
      ", '_keep_checkpoint_max': 5, '_keep_checkpoint_every_n_hours': 10000, '_log_step_count_steps': 100, '_train_distribute': None, '_device_fn': None, '_protocol': None, '_eval_distribute': None, '_experimental_distribute': None, '_service': None, '_cluster_spec': <tensorflow.python.training.server_lib.ClusterSpec object at 0x000001D9A0CACEF0>, '_task_type': 'worker', '_task_id': 0, '_global_id_in_cluster': 0, '_master': '', '_evaluation_master': '', '_is_chief': True, '_num_ps_replicas': 0, '_num_worker_replicas': 1}\n",
      "estimator built\n",
      "WARNING:tensorflow:From D:\\Program Files\\Anaconda\\lib\\site-packages\\tensorflow\\python\\framework\\op_def_library.py:263: colocate_with (from tensorflow.python.framework.ops) is deprecated and will be removed in a future version.\n",
      "Instructions for updating:\n",
      "Colocations handled automatically by placer.\n",
      "WARNING:tensorflow:From <ipython-input-4-a74624268b07>:3: string_input_producer (from tensorflow.python.training.input) is deprecated and will be removed in a future version.\n",
      "Instructions for updating:\n",
      "Queue-based input pipelines have been replaced by `tf.data`. Use `tf.data.Dataset.from_tensor_slices(string_tensor).shuffle(tf.shape(input_tensor, out_type=tf.int64)[0]).repeat(num_epochs)`. If `shuffle=False`, omit the `.shuffle(...)`.\n",
      "WARNING:tensorflow:From D:\\Program Files\\Anaconda\\lib\\site-packages\\tensorflow\\python\\training\\input.py:278: input_producer (from tensorflow.python.training.input) is deprecated and will be removed in a future version.\n",
      "Instructions for updating:\n",
      "Queue-based input pipelines have been replaced by `tf.data`. Use `tf.data.Dataset.from_tensor_slices(input_tensor).shuffle(tf.shape(input_tensor, out_type=tf.int64)[0]).repeat(num_epochs)`. If `shuffle=False`, omit the `.shuffle(...)`.\n",
      "WARNING:tensorflow:From D:\\Program Files\\Anaconda\\lib\\site-packages\\tensorflow\\python\\training\\input.py:190: limit_epochs (from tensorflow.python.training.input) is deprecated and will be removed in a future version.\n",
      "Instructions for updating:\n",
      "Queue-based input pipelines have been replaced by `tf.data`. Use `tf.data.Dataset.from_tensors(tensor).repeat(num_epochs)`.\n",
      "WARNING:tensorflow:From D:\\Program Files\\Anaconda\\lib\\site-packages\\tensorflow\\python\\training\\input.py:199: QueueRunner.__init__ (from tensorflow.python.training.queue_runner_impl) is deprecated and will be removed in a future version.\n",
      "Instructions for updating:\n",
      "To construct input pipelines, use the `tf.data` module.\n",
      "WARNING:tensorflow:From D:\\Program Files\\Anaconda\\lib\\site-packages\\tensorflow\\python\\training\\input.py:199: add_queue_runner (from tensorflow.python.training.queue_runner_impl) is deprecated and will be removed in a future version.\n",
      "Instructions for updating:\n",
      "To construct input pipelines, use the `tf.data` module.\n",
      "WARNING:tensorflow:From D:\\Program Files\\Anaconda\\lib\\site-packages\\tensorflow\\python\\training\\input.py:202: to_float (from tensorflow.python.ops.math_ops) is deprecated and will be removed in a future version.\n",
      "Instructions for updating:\n",
      "Use tf.cast instead.\n",
      "WARNING:tensorflow:From <ipython-input-4-a74624268b07>:4: TextLineReader.__init__ (from tensorflow.python.ops.io_ops) is deprecated and will be removed in a future version.\n",
      "Instructions for updating:\n",
      "Queue-based input pipelines have been replaced by `tf.data`. Use `tf.data.TextLineDataset`.\n",
      "INFO:tensorflow:Calling model_fn.\n",
      "WARNING:tensorflow:From D:\\Program Files\\Anaconda\\lib\\site-packages\\tensorflow\\python\\feature_column\\feature_column_v2.py:2997: HashedCategoricalColumn._num_buckets (from tensorflow.python.feature_column.feature_column_v2) is deprecated and will be removed after 2018-11-30.\n",
      "Instructions for updating:\n",
      "The old _FeatureColumn APIs are being deprecated. Please use the new FeatureColumn APIs instead.\n",
      "WARNING:tensorflow:From D:\\Program Files\\Anaconda\\lib\\site-packages\\tensorflow\\python\\ops\\array_grad.py:425: to_int32 (from tensorflow.python.ops.math_ops) is deprecated and will be removed in a future version.\n",
      "Instructions for updating:\n",
      "Use tf.cast instead.\n",
      "INFO:tensorflow:Done calling model_fn.\n",
      "INFO:tensorflow:Create CheckpointSaverHook.\n",
      "INFO:tensorflow:Graph was finalized.\n",
      "INFO:tensorflow:Running local_init_op.\n",
      "INFO:tensorflow:Done running local_init_op.\n",
      "WARNING:tensorflow:From D:\\Program Files\\Anaconda\\lib\\site-packages\\tensorflow\\python\\training\\monitored_session.py:809: start_queue_runners (from tensorflow.python.training.queue_runner_impl) is deprecated and will be removed in a future version.\n",
      "Instructions for updating:\n",
      "To construct input pipelines, use the `tf.data` module.\n",
      "INFO:tensorflow:Saving checkpoints for 0 into WD_models/model_WIDE_AND_DEEP_1570200215\\model.ckpt.\n",
      "INFO:tensorflow:loss = 1191.54, step = 1\n",
      "INFO:tensorflow:Saving checkpoints for 100 into WD_models/model_WIDE_AND_DEEP_1570200215\\model.ckpt.\n",
      "INFO:tensorflow:global_step/sec: 18.2745\n",
      "INFO:tensorflow:loss = 976.76843, step = 101 (5.476 sec)\n",
      "INFO:tensorflow:Saving checkpoints for 200 into WD_models/model_WIDE_AND_DEEP_1570200215\\model.ckpt.\n",
      "INFO:tensorflow:global_step/sec: 21.3091\n",
      "INFO:tensorflow:loss = 901.4828, step = 201 (4.698 sec)\n",
      "INFO:tensorflow:Saving checkpoints for 300 into WD_models/model_WIDE_AND_DEEP_1570200215\\model.ckpt.\n",
      "INFO:tensorflow:global_step/sec: 21.8286\n",
      "INFO:tensorflow:loss = 1002.4546, step = 301 (4.576 sec)\n",
      "INFO:tensorflow:Saving checkpoints for 400 into WD_models/model_WIDE_AND_DEEP_1570200215\\model.ckpt.\n",
      "INFO:tensorflow:global_step/sec: 21.8723\n",
      "INFO:tensorflow:loss = 947.7158, step = 401 (4.568 sec)\n",
      "INFO:tensorflow:Saving checkpoints for 500 into WD_models/model_WIDE_AND_DEEP_1570200215\\model.ckpt.\n",
      "WARNING:tensorflow:From D:\\Program Files\\Anaconda\\lib\\site-packages\\tensorflow\\python\\training\\saver.py:966: remove_checkpoint (from tensorflow.python.training.checkpoint_management) is deprecated and will be removed in a future version.\n",
      "Instructions for updating:\n",
      "Use standard file APIs to delete files with this prefix.\n",
      "INFO:tensorflow:global_step/sec: 21.5444\n",
      "INFO:tensorflow:loss = 1038.3417, step = 501 (4.651 sec)\n",
      "INFO:tensorflow:Saving checkpoints for 600 into WD_models/model_WIDE_AND_DEEP_1570200215\\model.ckpt.\n",
      "INFO:tensorflow:global_step/sec: 20.4585\n",
      "INFO:tensorflow:loss = 1007.41406, step = 601 (4.888 sec)\n",
      "INFO:tensorflow:Saving checkpoints for 700 into WD_models/model_WIDE_AND_DEEP_1570200215\\model.ckpt.\n",
      "INFO:tensorflow:global_step/sec: 21.9183\n",
      "INFO:tensorflow:loss = 1032.4022, step = 701 (4.564 sec)\n",
      "INFO:tensorflow:Saving checkpoints for 800 into WD_models/model_WIDE_AND_DEEP_1570200215\\model.ckpt.\n",
      "INFO:tensorflow:global_step/sec: 21.5212\n",
      "INFO:tensorflow:loss = 1047.2667, step = 801 (4.646 sec)\n",
      "INFO:tensorflow:Saving checkpoints for 900 into WD_models/model_WIDE_AND_DEEP_1570200215\\model.ckpt.\n",
      "INFO:tensorflow:global_step/sec: 21.613\n",
      "INFO:tensorflow:loss = 1042.0502, step = 901 (4.622 sec)\n",
      "INFO:tensorflow:Saving checkpoints for 1000 into WD_models/model_WIDE_AND_DEEP_1570200215\\model.ckpt.\n",
      "INFO:tensorflow:global_step/sec: 21.6891\n",
      "INFO:tensorflow:loss = 1065.5331, step = 1001 (4.618 sec)\n",
      "INFO:tensorflow:Saving checkpoints for 1100 into WD_models/model_WIDE_AND_DEEP_1570200215\\model.ckpt.\n",
      "INFO:tensorflow:global_step/sec: 22.1603\n",
      "INFO:tensorflow:loss = 1096.719, step = 1101 (4.500 sec)\n",
      "INFO:tensorflow:Saving checkpoints for 1200 into WD_models/model_WIDE_AND_DEEP_1570200215\\model.ckpt.\n",
      "INFO:tensorflow:global_step/sec: 21.1306\n",
      "INFO:tensorflow:loss = 1152.144, step = 1201 (4.743 sec)\n",
      "INFO:tensorflow:Saving checkpoints for 1300 into WD_models/model_WIDE_AND_DEEP_1570200215\\model.ckpt.\n",
      "INFO:tensorflow:global_step/sec: 20.9002\n",
      "INFO:tensorflow:loss = 1181.0616, step = 1301 (4.774 sec)\n",
      "INFO:tensorflow:Saving checkpoints for 1400 into WD_models/model_WIDE_AND_DEEP_1570200215\\model.ckpt.\n",
      "INFO:tensorflow:global_step/sec: 21.1707\n",
      "INFO:tensorflow:loss = 1106.011, step = 1401 (4.735 sec)\n",
      "INFO:tensorflow:Saving checkpoints for 1500 into WD_models/model_WIDE_AND_DEEP_1570200215\\model.ckpt.\n"
     ]
    },
    {
     "name": "stdout",
     "output_type": "stream",
     "text": [
      "INFO:tensorflow:global_step/sec: 14.6861\n",
      "INFO:tensorflow:loss = 1157.788, step = 1501 (6.797 sec)\n",
      "INFO:tensorflow:Saving checkpoints for 1600 into WD_models/model_WIDE_AND_DEEP_1570200215\\model.ckpt.\n",
      "INFO:tensorflow:global_step/sec: 18.4455\n",
      "INFO:tensorflow:loss = 1096.1296, step = 1601 (5.430 sec)\n",
      "INFO:tensorflow:Saving checkpoints for 1700 into WD_models/model_WIDE_AND_DEEP_1570200215\\model.ckpt.\n",
      "INFO:tensorflow:global_step/sec: 18.1577\n",
      "INFO:tensorflow:loss = 1160.27, step = 1701 (5.512 sec)\n",
      "INFO:tensorflow:Saving checkpoints for 1800 into WD_models/model_WIDE_AND_DEEP_1570200215\\model.ckpt.\n",
      "INFO:tensorflow:global_step/sec: 20.989\n",
      "INFO:tensorflow:loss = 1142.5098, step = 1801 (4.757 sec)\n",
      "INFO:tensorflow:Saving checkpoints for 1900 into WD_models/model_WIDE_AND_DEEP_1570200215\\model.ckpt.\n",
      "INFO:tensorflow:global_step/sec: 21.7049\n",
      "INFO:tensorflow:loss = 1180.796, step = 1901 (4.602 sec)\n",
      "INFO:tensorflow:Saving checkpoints for 2000 into WD_models/model_WIDE_AND_DEEP_1570200215\\model.ckpt.\n",
      "INFO:tensorflow:global_step/sec: 20.6482\n",
      "INFO:tensorflow:loss = 1051.4849, step = 2001 (4.843 sec)\n",
      "INFO:tensorflow:Saving checkpoints for 2100 into WD_models/model_WIDE_AND_DEEP_1570200215\\model.ckpt.\n",
      "INFO:tensorflow:global_step/sec: 21.2134\n",
      "INFO:tensorflow:loss = 1110.1499, step = 2101 (4.718 sec)\n",
      "INFO:tensorflow:Saving checkpoints for 2200 into WD_models/model_WIDE_AND_DEEP_1570200215\\model.ckpt.\n",
      "INFO:tensorflow:global_step/sec: 20.9426\n",
      "INFO:tensorflow:loss = 1144.4106, step = 2201 (4.784 sec)\n",
      "INFO:tensorflow:Saving checkpoints for 2300 into WD_models/model_WIDE_AND_DEEP_1570200215\\model.ckpt.\n",
      "INFO:tensorflow:global_step/sec: 21.2005\n",
      "INFO:tensorflow:loss = 1188.3026, step = 2301 (4.715 sec)\n",
      "INFO:tensorflow:Saving checkpoints for 2400 into WD_models/model_WIDE_AND_DEEP_1570200215\\model.ckpt.\n",
      "INFO:tensorflow:global_step/sec: 21.4853\n",
      "INFO:tensorflow:loss = 1217.5157, step = 2401 (4.652 sec)\n",
      "INFO:tensorflow:Saving checkpoints for 2500 into WD_models/model_WIDE_AND_DEEP_1570200215\\model.ckpt.\n",
      "INFO:tensorflow:global_step/sec: 20.4895\n",
      "INFO:tensorflow:loss = 1160.2366, step = 2501 (4.882 sec)\n",
      "INFO:tensorflow:Saving checkpoints for 2600 into WD_models/model_WIDE_AND_DEEP_1570200215\\model.ckpt.\n",
      "INFO:tensorflow:global_step/sec: 20.4237\n",
      "INFO:tensorflow:loss = 1111.2682, step = 2601 (4.897 sec)\n",
      "INFO:tensorflow:Saving checkpoints for 2700 into WD_models/model_WIDE_AND_DEEP_1570200215\\model.ckpt.\n",
      "INFO:tensorflow:global_step/sec: 21.182\n",
      "INFO:tensorflow:loss = 1128.2334, step = 2701 (4.723 sec)\n",
      "INFO:tensorflow:Saving checkpoints for 2800 into WD_models/model_WIDE_AND_DEEP_1570200215\\model.ckpt.\n",
      "INFO:tensorflow:global_step/sec: 20.2755\n",
      "INFO:tensorflow:loss = 1143.3157, step = 2801 (4.932 sec)\n",
      "INFO:tensorflow:Saving checkpoints for 2900 into WD_models/model_WIDE_AND_DEEP_1570200215\\model.ckpt.\n",
      "INFO:tensorflow:global_step/sec: 21.2143\n",
      "INFO:tensorflow:loss = 1079.2517, step = 2901 (4.706 sec)\n",
      "INFO:tensorflow:Saving checkpoints for 3000 into WD_models/model_WIDE_AND_DEEP_1570200215\\model.ckpt.\n",
      "INFO:tensorflow:global_step/sec: 21.0553\n",
      "INFO:tensorflow:loss = 1217.803, step = 3001 (4.757 sec)\n",
      "INFO:tensorflow:Saving checkpoints for 3100 into WD_models/model_WIDE_AND_DEEP_1570200215\\model.ckpt.\n",
      "INFO:tensorflow:global_step/sec: 21.32\n",
      "INFO:tensorflow:loss = 1112.6545, step = 3101 (4.690 sec)\n",
      "INFO:tensorflow:Saving checkpoints for 3200 into WD_models/model_WIDE_AND_DEEP_1570200215\\model.ckpt.\n",
      "INFO:tensorflow:global_step/sec: 20.6115\n",
      "INFO:tensorflow:loss = 1051.4653, step = 3201 (4.842 sec)\n",
      "INFO:tensorflow:Saving checkpoints for 3300 into WD_models/model_WIDE_AND_DEEP_1570200215\\model.ckpt.\n",
      "INFO:tensorflow:global_step/sec: 20.2424\n",
      "INFO:tensorflow:loss = 1242.7478, step = 3301 (4.944 sec)\n",
      "INFO:tensorflow:Saving checkpoints for 3400 into WD_models/model_WIDE_AND_DEEP_1570200215\\model.ckpt.\n",
      "INFO:tensorflow:global_step/sec: 21.1537\n",
      "INFO:tensorflow:loss = 1124.7424, step = 3401 (4.724 sec)\n",
      "INFO:tensorflow:Saving checkpoints for 3500 into WD_models/model_WIDE_AND_DEEP_1570200215\\model.ckpt.\n",
      "INFO:tensorflow:global_step/sec: 21.0906\n",
      "INFO:tensorflow:loss = 1085.7086, step = 3501 (4.741 sec)\n",
      "INFO:tensorflow:Saving checkpoints for 3600 into WD_models/model_WIDE_AND_DEEP_1570200215\\model.ckpt.\n",
      "INFO:tensorflow:global_step/sec: 21.3595\n",
      "INFO:tensorflow:loss = 1163.9441, step = 3601 (4.691 sec)\n",
      "INFO:tensorflow:Saving checkpoints for 3689 into WD_models/model_WIDE_AND_DEEP_1570200215\\model.ckpt.\n",
      "INFO:tensorflow:Loss for final step: 785.2105.\n",
      "wide and deep model fit done\n",
      "Wall time: 3min 18s\n"
     ]
    }
   ],
   "source": [
    "%%time\n",
    "MODEL_TYPE = 'WIDE_AND_DEEP'\n",
    "model_dir = create_model_dir(model_type=MODEL_TYPE)\n",
    "wd_model = get_model(model_type=MODEL_TYPE, model_dir=model_dir)\n",
    "wd_model.train(input_fn=generate_input_fn(train_file, BATCH_SIZE), steps=train_steps)\n",
    "print('wide and deep model fit done')"
   ]
  },
  {
   "cell_type": "markdown",
   "metadata": {},
   "source": [
    "### 4. WD模型评估和预测"
   ]
  },
  {
   "cell_type": "code",
   "execution_count": 11,
   "metadata": {},
   "outputs": [],
   "source": [
    "#predict返回一个生成器\n",
    "train_results = wd_model.predict(input_fn=generate_input_fn(train_file, BATCH_SIZE))"
   ]
  },
  {
   "cell_type": "code",
   "execution_count": 12,
   "metadata": {},
   "outputs": [],
   "source": [
    "test_results = wd_model.predict(input_fn=generate_input_fn(test_file, BATCH_SIZE))"
   ]
  },
  {
   "cell_type": "markdown",
   "metadata": {},
   "source": [
    "1.评估"
   ]
  },
  {
   "cell_type": "code",
   "execution_count": 13,
   "metadata": {},
   "outputs": [],
   "source": [
    "from sklearn import metrics\n",
    "from sklearn.metrics import roc_auc_score"
   ]
  },
  {
   "cell_type": "code",
   "execution_count": 14,
   "metadata": {
    "collapsed": true
   },
   "outputs": [
    {
     "name": "stdout",
     "output_type": "stream",
     "text": [
      "INFO:tensorflow:Calling model_fn.\n",
      "INFO:tensorflow:Done calling model_fn.\n",
      "INFO:tensorflow:Graph was finalized.\n",
      "WARNING:tensorflow:From D:\\Program Files\\Anaconda\\lib\\site-packages\\tensorflow\\python\\training\\saver.py:1266: checkpoint_exists (from tensorflow.python.training.checkpoint_management) is deprecated and will be removed in a future version.\n",
      "Instructions for updating:\n",
      "Use standard file APIs to check for files with this prefix.\n",
      "INFO:tensorflow:Restoring parameters from WD_models/model_WIDE_AND_DEEP_1570200215\\model.ckpt-3689\n",
      "INFO:tensorflow:Running local_init_op.\n",
      "INFO:tensorflow:Done running local_init_op.\n"
     ]
    }
   ],
   "source": [
    "train_proba = []\n",
    "for i in range(7377403):\n",
    "    one_res = next(train_results)[\"probabilities\"]\n",
    "    train_proba.append(one_res)"
   ]
  },
  {
   "cell_type": "code",
   "execution_count": 15,
   "metadata": {},
   "outputs": [
    {
     "data": {
      "text/plain": [
       "(7377403, 2)"
      ]
     },
     "execution_count": 15,
     "metadata": {},
     "output_type": "execute_result"
    }
   ],
   "source": [
    "train_proba = np.array(train_proba)\n",
    "train_proba.shape"
   ]
  },
  {
   "cell_type": "code",
   "execution_count": 22,
   "metadata": {},
   "outputs": [
    {
     "data": {
      "text/plain": [
       "(7377403,)"
      ]
     },
     "execution_count": 22,
     "metadata": {},
     "output_type": "execute_result"
    }
   ],
   "source": [
    "train_target = train_wd.iloc[:,0].values\n",
    "train_target.shape"
   ]
  },
  {
   "cell_type": "code",
   "execution_count": 23,
   "metadata": {},
   "outputs": [
    {
     "data": {
      "text/plain": [
       "0.7755699600506679"
      ]
     },
     "execution_count": 23,
     "metadata": {},
     "output_type": "execute_result"
    }
   ],
   "source": [
    "roc_auc_score(train_target,train_proba[:,1])"
   ]
  },
  {
   "cell_type": "code",
   "execution_count": 107,
   "metadata": {},
   "outputs": [],
   "source": [
    "fpr,tpr,thresholds = metrics.roc_curve(train_target,train_proba[:,1])"
   ]
  },
  {
   "cell_type": "code",
   "execution_count": 108,
   "metadata": {},
   "outputs": [
    {
     "data": {
      "text/plain": [
       "0.7763867628090612"
      ]
     },
     "execution_count": 108,
     "metadata": {},
     "output_type": "execute_result"
    }
   ],
   "source": [
    "metrics.auc(fpr, tpr)"
   ]
  },
  {
   "cell_type": "code",
   "execution_count": 110,
   "metadata": {
    "collapsed": true
   },
   "outputs": [
    {
     "data": {
      "image/png": "[encoded data removed]",
      "text/plain": [
       "<Figure size 432x288 with 1 Axes>"
      ]
     },
     "metadata": {
      "needs_background": "light"
     },
     "output_type": "display_data"
    }
   ],
   "source": [
    "from matplotlib import pyplot as plt \n",
    "plt.title(\"wd_roc\") \n",
    "plt.xlabel(\"fpr\") \n",
    "plt.ylabel(\"tpr\") \n",
    "plt.plot(fpr,tpr) \n",
    "plt.show()"
   ]
  },
  {
   "cell_type": "code",
   "execution_count": 24,
   "metadata": {},
   "outputs": [],
   "source": [
    "#保存结果\n",
    "pickle.dump(train_proba,open(\"./model/wd_pred.pkl\",\"wb\"))"
   ]
  },
  {
   "cell_type": "markdown",
   "metadata": {},
   "source": [
    "2.预测"
   ]
  },
  {
   "cell_type": "code",
   "execution_count": 90,
   "metadata": {
    "collapsed": true
   },
   "outputs": [
    {
     "name": "stdout",
     "output_type": "stream",
     "text": [
      "INFO:tensorflow:Calling model_fn.\n",
      "INFO:tensorflow:Done calling model_fn.\n",
      "INFO:tensorflow:Graph was finalized.\n",
      "INFO:tensorflow:Restoring parameters from WD_models/model_WIDE_AND_DEEP_1567750302\\model.ckpt-3689\n",
      "INFO:tensorflow:Running local_init_op.\n",
      "INFO:tensorflow:Done running local_init_op.\n"
     ]
    }
   ],
   "source": [
    "test_proba = []\n",
    "for i in range(2556790):\n",
    "    one_res = next(test_results)[\"probabilities\"]\n",
    "    test_proba.append(one_res)"
   ]
  },
  {
   "cell_type": "code",
   "execution_count": 91,
   "metadata": {},
   "outputs": [],
   "source": [
    "test_proba = np.array(test_proba)"
   ]
  },
  {
   "cell_type": "code",
   "execution_count": 92,
   "metadata": {},
   "outputs": [
    {
     "data": {
      "text/plain": [
       "(2556790, 2)"
      ]
     },
     "execution_count": 92,
     "metadata": {},
     "output_type": "execute_result"
    }
   ],
   "source": [
    "test_proba.shape"
   ]
  },
  {
   "cell_type": "markdown",
   "metadata": {},
   "source": [
    "3.提交结果"
   ]
  },
  {
   "cell_type": "code",
   "execution_count": 96,
   "metadata": {},
   "outputs": [],
   "source": [
    "def submit(submission_file):\n",
    "    f = open(submission_file,\"w+\")\n",
    "    ocolnames = [\"id\",\"target\"]\n",
    "    f.write(\",\".join(ocolnames)+\"\\n\")\n",
    "    outcols = []\n",
    "    for i in range(len(test_proba)):\n",
    "        col1 = i\n",
    "        col2 = test_proba[:,1][i]\n",
    "        outcols = [str(col1),str(col2)]\n",
    "        f.write(\",\".join(outcols)+\"\\n\")\n",
    "    f.close()"
   ]
  },
  {
   "cell_type": "code",
   "execution_count": 97,
   "metadata": {},
   "outputs": [],
   "source": [
    "submit(\"./submission/submission_wd.csv\")"
   ]
  },
  {
   "cell_type": "code",
   "execution_count": 101,
   "metadata": {},
   "outputs": [],
   "source": [
    "submission_wd= pd.read_csv(\"./submission/submission_wd.csv\")"
   ]
  },
  {
   "cell_type": "code",
   "execution_count": 102,
   "metadata": {},
   "outputs": [
    {
     "data": {
      "text/plain": [
       "(2556790, 2)"
      ]
     },
     "execution_count": 102,
     "metadata": {},
     "output_type": "execute_result"
    }
   ],
   "source": [
    "submission_wd.shape"
   ]
  },
  {
   "cell_type": "code",
   "execution_count": 105,
   "metadata": {
    "collapsed": true
   },
   "outputs": [
    {
     "data": {
      "text/html": [
       "<div>\n",
       "<style scoped>\n",
       "    .dataframe tbody tr th:only-of-type {\n",
       "        vertical-align: middle;\n",
       "    }\n",
       "\n",
       "    .dataframe tbody tr th {\n",
       "        vertical-align: top;\n",
       "    }\n",
       "\n",
       "    .dataframe thead th {\n",
       "        text-align: right;\n",
       "    }\n",
       "</style>\n",
       "<table border=\"1\" class=\"dataframe\">\n",
       "  <thead>\n",
       "    <tr style=\"text-align: right;\">\n",
       "      <th></th>\n",
       "      <th>id</th>\n",
       "      <th>target</th>\n",
       "    </tr>\n",
       "  </thead>\n",
       "  <tbody>\n",
       "    <tr>\n",
       "      <th>0</th>\n",
       "      <td>0</td>\n",
       "      <td>0.309036</td>\n",
       "    </tr>\n",
       "    <tr>\n",
       "      <th>1</th>\n",
       "      <td>1</td>\n",
       "      <td>0.313812</td>\n",
       "    </tr>\n",
       "    <tr>\n",
       "      <th>2</th>\n",
       "      <td>2</td>\n",
       "      <td>0.094208</td>\n",
       "    </tr>\n",
       "    <tr>\n",
       "      <th>3</th>\n",
       "      <td>3</td>\n",
       "      <td>0.068431</td>\n",
       "    </tr>\n",
       "    <tr>\n",
       "      <th>4</th>\n",
       "      <td>4</td>\n",
       "      <td>0.181079</td>\n",
       "    </tr>\n",
       "    <tr>\n",
       "      <th>5</th>\n",
       "      <td>5</td>\n",
       "      <td>0.110071</td>\n",
       "    </tr>\n",
       "    <tr>\n",
       "      <th>6</th>\n",
       "      <td>6</td>\n",
       "      <td>0.111275</td>\n",
       "    </tr>\n",
       "    <tr>\n",
       "      <th>7</th>\n",
       "      <td>7</td>\n",
       "      <td>0.259496</td>\n",
       "    </tr>\n",
       "    <tr>\n",
       "      <th>8</th>\n",
       "      <td>8</td>\n",
       "      <td>0.150790</td>\n",
       "    </tr>\n",
       "    <tr>\n",
       "      <th>9</th>\n",
       "      <td>9</td>\n",
       "      <td>0.628534</td>\n",
       "    </tr>\n",
       "    <tr>\n",
       "      <th>10</th>\n",
       "      <td>10</td>\n",
       "      <td>0.693512</td>\n",
       "    </tr>\n",
       "    <tr>\n",
       "      <th>11</th>\n",
       "      <td>11</td>\n",
       "      <td>0.222664</td>\n",
       "    </tr>\n",
       "    <tr>\n",
       "      <th>12</th>\n",
       "      <td>12</td>\n",
       "      <td>0.204592</td>\n",
       "    </tr>\n",
       "    <tr>\n",
       "      <th>13</th>\n",
       "      <td>13</td>\n",
       "      <td>0.703435</td>\n",
       "    </tr>\n",
       "    <tr>\n",
       "      <th>14</th>\n",
       "      <td>14</td>\n",
       "      <td>0.202987</td>\n",
       "    </tr>\n",
       "    <tr>\n",
       "      <th>15</th>\n",
       "      <td>15</td>\n",
       "      <td>0.583714</td>\n",
       "    </tr>\n",
       "    <tr>\n",
       "      <th>16</th>\n",
       "      <td>16</td>\n",
       "      <td>0.673884</td>\n",
       "    </tr>\n",
       "    <tr>\n",
       "      <th>17</th>\n",
       "      <td>17</td>\n",
       "      <td>0.380842</td>\n",
       "    </tr>\n",
       "    <tr>\n",
       "      <th>18</th>\n",
       "      <td>18</td>\n",
       "      <td>0.331869</td>\n",
       "    </tr>\n",
       "    <tr>\n",
       "      <th>19</th>\n",
       "      <td>19</td>\n",
       "      <td>0.491079</td>\n",
       "    </tr>\n",
       "  </tbody>\n",
       "</table>\n",
       "</div>"
      ],
      "text/plain": [
       "    id    target\n",
       "0    0  0.309036\n",
       "1    1  0.313812\n",
       "2    2  0.094208\n",
       "3    3  0.068431\n",
       "4    4  0.181079\n",
       "5    5  0.110071\n",
       "6    6  0.111275\n",
       "7    7  0.259496\n",
       "8    8  0.150790\n",
       "9    9  0.628534\n",
       "10  10  0.693512\n",
       "11  11  0.222664\n",
       "12  12  0.204592\n",
       "13  13  0.703435\n",
       "14  14  0.202987\n",
       "15  15  0.583714\n",
       "16  16  0.673884\n",
       "17  17  0.380842\n",
       "18  18  0.331869\n",
       "19  19  0.491079"
      ]
     },
     "execution_count": 105,
     "metadata": {},
     "output_type": "execute_result"
    }
   ],
   "source": [
    "submission_wd.head(20)"
   ]
  }
 ],
 "metadata": {
  "kernelspec": {
   "display_name": "Python 3",
   "language": "python",
   "name": "python3"
  },
  "language_info": {
   "codemirror_mode": {
    "name": "ipython",
    "version": 3
   },
   "file_extension": ".py",
   "mimetype": "text/x-python",
   "name": "python",
   "nbconvert_exporter": "python",
   "pygments_lexer": "ipython3",
   "version": "3.7.1"
  }
 },
 "nbformat": 4,
 "nbformat_minor": 2
}
