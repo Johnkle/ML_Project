{
 "cells": [
  {
   "cell_type": "markdown",
   "metadata": {},
   "source": [
    "### LFM Model"
   ]
  },
  {
   "cell_type": "code",
   "execution_count": 12,
   "metadata": {},
   "outputs": [],
   "source": [
    "from sklearn.tree import DecisionTreeClassifier\n",
    "from lightgbm.sklearn import LGBMClassifier\n",
    "from xgboost import XGBClassifier\n",
    "from sklearn.ensemble import RandomForestClassifier\n",
    "from sklearn.linear_model import LogisticRegression\n",
    "from sklearn.model_selection import GridSearchCV\n",
    "from sklearn.metrics import accuracy_score\n",
    "from sklearn.metrics import roc_auc_score\n",
    "from sklearn import metrics\n",
    "from sklearn.model_selection import KFold\n",
    "from sklearn.model_selection import StratifiedKFold\n",
    "import lightgbm\n",
    "import pandas as pd\n",
    "import numpy as np\n",
    "import matplotlib.pyplot as plt\n",
    "import pickle\n",
    "import scipy.io as sio"
   ]
  },
  {
   "cell_type": "code",
   "execution_count": 3,
   "metadata": {},
   "outputs": [],
   "source": [
    "def lfm_train(train_path, F, alpha, beta, step):\n",
    "    \"\"\"\n",
    "    train LFM model,get latent factor user_vec and event_vec\n",
    "    Args:\n",
    "        train_data: train_data for lfm\n",
    "        F: user vector len, event vector len\n",
    "        alpha:regularization factor\n",
    "        beta: learning rate\n",
    "        step: iteration number\n",
    "    Return:\n",
    "        dict: key eventid, value:np.ndarray\n",
    "        dict: key userid, value:np.ndarray\n",
    "    \"\"\"\n",
    "    user_vec = {}\n",
    "    event_vec = {}\n",
    "    count = 0\n",
    "    for step in range(step):\n",
    "        fin = open(train_path,\"r+\")\n",
    "        start = 0\n",
    "        #每次取一行，随机梯度下降？\n",
    "        for line in fin:\n",
    "            if start == 0:\n",
    "                start += 1\n",
    "                continue\n",
    "            cols = line.strip().split(\",\")\n",
    "            userid,eventid,label = cols[0],cols[1],cols[-2]\n",
    "            if userid not in user_vec:\n",
    "                user_vec[userid] = np.random.randn(F)\n",
    "            if eventid not in event_vec:\n",
    "                event_vec[eventid] = np.random.randn(F)\n",
    "            #label是str，需转换为int\n",
    "            delta = int(label)-lfm_score(user_vec[userid],event_vec[eventid])\n",
    "            for i in range(F):\n",
    "                user_vec[userid][i] += beta*(delta*event_vec[eventid][i]\\\n",
    "                                            -alpha*user_vec[userid][i])\n",
    "                event_vec[eventid][i] += beta*(delta*user_vec[userid][i]\\\n",
    "                                            -alpha*event_vec[eventid][i])\n",
    "            count += 1\n",
    "            #第1轮不更新学习率\n",
    "            if step == 0:\n",
    "                continue\n",
    "            #每2000个样本更新一次学习率\n",
    "            if count%2000==0:\n",
    "                beta *= 0.95\n",
    "            if count%5000==0:\n",
    "                print(\"step %d,count %d,learning rate %g:\"%(step, count, beta))\n",
    "    pickle.dump(user_vec,open(\"./package/LFM_user_vec.pkl\",\"wb\"))\n",
    "    pickle.dump(event_vec,open(\"./package/LFM_event_vec.pkl\",\"wb\"))\n",
    "\n",
    "def lfm_score(user_vector,event_vector):\n",
    "    \"\"\"\n",
    "    user_vector and event_vector distance\n",
    "    Args:\n",
    "        user_vector: lfm model produce user vector\n",
    "        event_vector: lfm model produce event vector\n",
    "    Return:\n",
    "         lfm recommend score\n",
    "    \"\"\"\n",
    "    score = np.dot(user_vector, event_vector)/\\\n",
    "                (np.linalg.norm(user_vector)*np.linalg.norm(event_vector))\n",
    "    return score"
   ]
  },
  {
   "cell_type": "code",
   "execution_count": 13,
   "metadata": {},
   "outputs": [
    {
     "data": {
      "text/plain": [
       "(15398, 10)"
      ]
     },
     "execution_count": 13,
     "metadata": {},
     "output_type": "execute_result"
    }
   ],
   "source": [
    "data_train = pd.read_csv(\"./data/data_train.csv\")\n",
    "data_train.shape"
   ]
  },
  {
   "cell_type": "code",
   "execution_count": 14,
   "metadata": {},
   "outputs": [
    {
     "data": {
      "text/html": [
       "<div>\n",
       "<style scoped>\n",
       "    .dataframe tbody tr th:only-of-type {\n",
       "        vertical-align: middle;\n",
       "    }\n",
       "\n",
       "    .dataframe tbody tr th {\n",
       "        vertical-align: top;\n",
       "    }\n",
       "\n",
       "    .dataframe thead th {\n",
       "        text-align: right;\n",
       "    }\n",
       "</style>\n",
       "<table border=\"1\" class=\"dataframe\">\n",
       "  <thead>\n",
       "    <tr style=\"text-align: right;\">\n",
       "      <th></th>\n",
       "      <th>invited</th>\n",
       "      <th>user_reco</th>\n",
       "      <th>evt_p_reco</th>\n",
       "      <th>evt_c_reco</th>\n",
       "      <th>user_pop</th>\n",
       "      <th>frnd_infl</th>\n",
       "      <th>evt_pop</th>\n",
       "      <th>lfm_reco</th>\n",
       "      <th>interested</th>\n",
       "      <th>not_interested</th>\n",
       "    </tr>\n",
       "  </thead>\n",
       "  <tbody>\n",
       "    <tr>\n",
       "      <th>0</th>\n",
       "      <td>0</td>\n",
       "      <td>0.000000</td>\n",
       "      <td>9.800970e-01</td>\n",
       "      <td>9.800970e-01</td>\n",
       "      <td>0.000231</td>\n",
       "      <td>0.0</td>\n",
       "      <td>-0.000039</td>\n",
       "      <td>0.00548</td>\n",
       "      <td>0</td>\n",
       "      <td>0</td>\n",
       "    </tr>\n",
       "    <tr>\n",
       "      <th>1</th>\n",
       "      <td>0</td>\n",
       "      <td>0.000000</td>\n",
       "      <td>1.821861e-01</td>\n",
       "      <td>1.821861e-01</td>\n",
       "      <td>0.000231</td>\n",
       "      <td>0.0</td>\n",
       "      <td>0.000018</td>\n",
       "      <td>-0.12674</td>\n",
       "      <td>0</td>\n",
       "      <td>0</td>\n",
       "    </tr>\n",
       "    <tr>\n",
       "      <th>2</th>\n",
       "      <td>0</td>\n",
       "      <td>143.279558</td>\n",
       "      <td>-1.000000e+00</td>\n",
       "      <td>-1.000000e+00</td>\n",
       "      <td>0.000231</td>\n",
       "      <td>0.0</td>\n",
       "      <td>0.000173</td>\n",
       "      <td>0.68928</td>\n",
       "      <td>1</td>\n",
       "      <td>0</td>\n",
       "    </tr>\n",
       "    <tr>\n",
       "      <th>3</th>\n",
       "      <td>0</td>\n",
       "      <td>0.000000</td>\n",
       "      <td>1.175019e+00</td>\n",
       "      <td>1.175019e+00</td>\n",
       "      <td>0.000231</td>\n",
       "      <td>0.0</td>\n",
       "      <td>0.000016</td>\n",
       "      <td>0.04961</td>\n",
       "      <td>0</td>\n",
       "      <td>0</td>\n",
       "    </tr>\n",
       "    <tr>\n",
       "      <th>4</th>\n",
       "      <td>0</td>\n",
       "      <td>32.328494</td>\n",
       "      <td>2.239399e-07</td>\n",
       "      <td>2.239399e-07</td>\n",
       "      <td>0.000231</td>\n",
       "      <td>0.0</td>\n",
       "      <td>0.000064</td>\n",
       "      <td>0.18320</td>\n",
       "      <td>0</td>\n",
       "      <td>0</td>\n",
       "    </tr>\n",
       "  </tbody>\n",
       "</table>\n",
       "</div>"
      ],
      "text/plain": [
       "   invited   user_reco    evt_p_reco    evt_c_reco  user_pop  frnd_infl  \\\n",
       "0        0    0.000000  9.800970e-01  9.800970e-01  0.000231        0.0   \n",
       "1        0    0.000000  1.821861e-01  1.821861e-01  0.000231        0.0   \n",
       "2        0  143.279558 -1.000000e+00 -1.000000e+00  0.000231        0.0   \n",
       "3        0    0.000000  1.175019e+00  1.175019e+00  0.000231        0.0   \n",
       "4        0   32.328494  2.239399e-07  2.239399e-07  0.000231        0.0   \n",
       "\n",
       "    evt_pop  lfm_reco  interested  not_interested  \n",
       "0 -0.000039   0.00548           0               0  \n",
       "1  0.000018  -0.12674           0               0  \n",
       "2  0.000173   0.68928           1               0  \n",
       "3  0.000016   0.04961           0               0  \n",
       "4  0.000064   0.18320           0               0  "
      ]
     },
     "execution_count": 14,
     "metadata": {},
     "output_type": "execute_result"
    }
   ],
   "source": [
    "data_train.head()"
   ]
  },
  {
   "cell_type": "code",
   "execution_count": 15,
   "metadata": {},
   "outputs": [],
   "source": [
    "y_train = np.array(data_train.iloc[:,-2])\n",
    "lfm_proba = np.array(data_train.iloc[:,-3])"
   ]
  },
  {
   "cell_type": "code",
   "execution_count": 17,
   "metadata": {},
   "outputs": [
    {
     "name": "stdout",
     "output_type": "stream",
     "text": [
      "0.9992725911668442\n"
     ]
    }
   ],
   "source": [
    "auc = roc_auc_score(y_train,lfm_proba)\n",
    "print(auc)"
   ]
  },
  {
   "cell_type": "code",
   "execution_count": 16,
   "metadata": {},
   "outputs": [],
   "source": [
    "pickle.dump(lfm_proba,open(\"./result/lfm_pred.pkl\",\"wb\"))\n",
    "pickle.dump(y_train,open(\"./result/y_train.pkl\",\"wb\"))"
   ]
  }
 ],
 "metadata": {
  "kernelspec": {
   "display_name": "Python 3",
   "language": "python",
   "name": "python3"
  },
  "language_info": {
   "codemirror_mode": {
    "name": "ipython",
    "version": 3
   },
   "file_extension": ".py",
   "mimetype": "text/x-python",
   "name": "python",
   "nbconvert_exporter": "python",
   "pygments_lexer": "ipython3",
   "version": "3.7.1"
  }
 },
 "nbformat": 4,
 "nbformat_minor": 2
}
