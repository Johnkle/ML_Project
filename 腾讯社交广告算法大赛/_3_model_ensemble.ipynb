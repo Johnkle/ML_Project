{
 "cells": [
  {
   "cell_type": "markdown",
   "metadata": {},
   "source": [
    "## 模型融合model ensemble\n",
    "1.准备数据-载入各模型的预测概率  \n",
    "2.融合训练-找到各模型的权重  \n",
    "3.模型融合-Random Forest,LightGBM,XGBoost_LR"
   ]
  },
  {
   "cell_type": "code",
   "execution_count": 1,
   "metadata": {},
   "outputs": [],
   "source": [
    "from sklearn.tree import DecisionTreeClassifier\n",
    "from lightgbm.sklearn import LGBMClassifier\n",
    "from xgboost import XGBClassifier\n",
    "from sklearn.model_selection import GridSearchCV\n",
    "from sklearn.metrics import accuracy_score\n",
    "from sklearn.metrics import roc_auc_score\n",
    "from sklearn import metrics\n",
    "from sklearn.model_selection import KFold\n",
    "from sklearn.model_selection import StratifiedKFold\n",
    "import lightgbm\n",
    "import pandas as pd\n",
    "import numpy as np\n",
    "import matplotlib.pyplot as plt\n",
    "import pickle\n",
    "import scipy.io as sio"
   ]
  },
  {
   "cell_type": "markdown",
   "metadata": {},
   "source": [
    "### 1.准备数据"
   ]
  },
  {
   "cell_type": "code",
   "execution_count": 2,
   "metadata": {},
   "outputs": [],
   "source": [
    "rf_pred = pickle.load(open(\"./result/rf_pred.pkl\",\"rb\")).astype('float32')[:,1]\n",
    "lgbm_pred = pickle.load(open(\"./result/lgbm_pred.pkl\",\"rb\")).astype('float32')[:,1]\n",
    "xgb_lr_pred = pickle.load(open(\"./result/xgb_lr_pred.pkl\",\"rb\")).astype('float32')[:,1]"
   ]
  },
  {
   "cell_type": "code",
   "execution_count": 3,
   "metadata": {},
   "outputs": [
    {
     "name": "stdout",
     "output_type": "stream",
     "text": [
      "Wall time: 103 ms\n"
     ]
    }
   ],
   "source": [
    "%%time\n",
    "X_train = np.hstack((rf_pred.reshape(-1,1),lgbm_pred.reshape(-1,1),\\\n",
    "                     xgb_lr_pred.reshape(-1,1)))\n",
    "y_train = pickle.load(open(\"./data/y_train.pkl\",\"rb\")).astype('int32')\n",
    "X_train.shape,y_train.shape"
   ]
  },
  {
   "cell_type": "markdown",
   "metadata": {},
   "source": [
    "### 2.融合训练"
   ]
  },
  {
   "cell_type": "code",
   "execution_count": 4,
   "metadata": {},
   "outputs": [
    {
     "name": "stdout",
     "output_type": "stream",
     "text": [
      "Wall time: 1min 31s\n"
     ]
    }
   ],
   "source": [
    "%%time\n",
    "from sklearn.linear_model import LogisticRegressionCV\n",
    "lrcv = LogisticRegressionCV(n_jobs=4,cv=5,random_state=6)\n",
    "lrcv.fit(X_train,y_train)"
   ]
  },
  {
   "cell_type": "code",
   "execution_count": 6,
   "metadata": {},
   "outputs": [
    {
     "name": "stdout",
     "output_type": "stream",
     "text": [
      "0.794636380238451\n"
     ]
    }
   ],
   "source": [
    "y_proba_cv = lrcv.predict_proba(X_train)\n",
    "auc_cv = roc_auc_score(y_train,y_proba_cv[:,1])\n",
    "print(auc_cv)"
   ]
  },
  {
   "cell_type": "code",
   "execution_count": 7,
   "metadata": {},
   "outputs": [
    {
     "data": {
      "text/plain": [
       "array([[0.28491475, 0.44399981, 0.32817089]])"
      ]
     },
     "execution_count": 7,
     "metadata": {},
     "output_type": "execute_result"
    }
   ],
   "source": [
    "lrcv.coef_"
   ]
  },
  {
   "cell_type": "markdown",
   "metadata": {},
   "source": [
    "### 3.模型融合"
   ]
  },
  {
   "cell_type": "code",
   "execution_count": 8,
   "metadata": {},
   "outputs": [
    {
     "name": "stdout",
     "output_type": "stream",
     "text": [
      "0.79333644284456\n"
     ]
    }
   ],
   "source": [
    "blend_w = dict(rf=0.25,lgbm=0.4,xgb_lr=0.35)\n",
    "blend_pred = rf_pred*blend_w['rf']+lgbm_pred*blend_w['lgbm']+\\\n",
    "       xgb_lr_pred*blend_w['xgb_lr']\n",
    "blend_auc = roc_auc_score(y_train,blend_pred)\n",
    "print(blend_auc)"
   ]
  }
 ],
 "metadata": {
  "kernelspec": {
   "display_name": "Python 3",
   "language": "python",
   "name": "python3"
  },
  "language_info": {
   "codemirror_mode": {
    "name": "ipython",
    "version": 3
   },
   "file_extension": ".py",
   "mimetype": "text/x-python",
   "name": "python",
   "nbconvert_exporter": "python",
   "pygments_lexer": "ipython3",
   "version": "3.7.1"
  }
 },
 "nbformat": 4,
 "nbformat_minor": 2
}
